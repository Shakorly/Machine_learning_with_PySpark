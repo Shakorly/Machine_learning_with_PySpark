{
  "nbformat": 4,
  "nbformat_minor": 0,
  "metadata": {
    "colab": {
      "provenance": [],
      "authorship_tag": "ABX9TyMmIcjCT6XmNthhcH7unRfV",
      "include_colab_link": true
    },
    "kernelspec": {
      "name": "python3",
      "display_name": "Python 3"
    },
    "language_info": {
      "name": "python"
    }
  },
  "cells": [
    {
      "cell_type": "markdown",
      "metadata": {
        "id": "view-in-github",
        "colab_type": "text"
      },
      "source": [
        "<a href=\"https://colab.research.google.com/github/Shakorly/Machine_learning_with_PySpark/blob/main/data_preprocessing.ipynb\" target=\"_parent\"><img src=\"https://colab.research.google.com/assets/colab-badge.svg\" alt=\"Open In Colab\"/></a>"
      ]
    },
    {
      "cell_type": "markdown",
      "source": [
        "### **Chapter 2: DataFrame**\n",
        "Welcome back! In Chapter 1: SparkSession, we learned that the SparkSession is our main entry point into the powerful world of Apache Spark. It's like opening the front door to a large library. Once inside, where do you find the books (your data)? How is the information organized?\n",
        "\n",
        "This is where the DataFrame comes in."
      ],
      "metadata": {
        "id": "ZuJ4Igbj16Oq"
      }
    },
    {
      "cell_type": "code",
      "source": [
        "from pyspark.sql import SparkSession\n",
        "from pyspark.ml.feature import VectorAssembler\n",
        "from pyspark.ml.regression import LinearRegression\n",
        "from pyspark.ml.evaluation import RegressionEvaluator"
      ],
      "metadata": {
        "id": "sWTgZk7Z1fHk"
      },
      "execution_count": 2,
      "outputs": []
    },
    {
      "cell_type": "code",
      "source": [],
      "metadata": {
        "id": "f-7LTNYJ1osR"
      },
      "execution_count": null,
      "outputs": []
    }
  ]
}