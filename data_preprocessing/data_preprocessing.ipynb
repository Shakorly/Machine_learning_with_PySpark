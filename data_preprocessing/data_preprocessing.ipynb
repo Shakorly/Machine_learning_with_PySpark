{
  "nbformat": 4,
  "nbformat_minor": 0,
  "metadata": {
    "colab": {
      "provenance": []
    },
    "kernelspec": {
      "name": "python3",
      "display_name": "Python 3"
    },
    "language_info": {
      "name": "python"
    }
  },
  "cells": [
    {
      "cell_type": "markdown",
      "source": [
        "### **Chapter 2: DataFrame**\n",
        "Welcome back! In Chapter 1: SparkSession, we learned that the SparkSession is our main entry point into the powerful world of Apache Spark. It's like opening the front door to a large library. Once inside, where do you find the books (your data)? How is the information organized?\n",
        "\n",
        "This is where the DataFrame comes in."
      ],
      "metadata": {
        "id": "ZuJ4Igbj16Oq"
      }
    },
    {
      "cell_type": "markdown",
      "source": [
        "#### **What Problem Does DataFrame Solve?**\n",
        "You have vast amounts of data – perhaps millions or billions of rows – spread across many computers. This data often has a structure, like columns with names (e.g., \"user_id\", \"product_name\", \"purchase_amount\"). You need a way to:\n",
        "\n",
        "Organize this structured data.\n",
        "Perform common data manipulation tasks (like selecting specific columns, filtering rows, joining with other data) efficiently on this distributed data.\n",
        "Do this in a way that Spark can optimize for performance across the cluster.\n",
        "Simply storing data in basic lists or arrays in Python wouldn't work well for huge datasets and wouldn't leverage Spark's distributed processing power effectively."
      ],
      "metadata": {
        "id": "59BIFeG26gBB"
      }
    },
    {
      "cell_type": "markdown",
      "source": [
        "### **DataFrame: Your Structured Data Table in Spark**\n",
        "Think of a Spark DataFrame as a super-powered spreadsheet or a table in a database, but designed to handle immense amounts of data that are too big for one computer's memory and are processed across many machines.\n",
        "It organizes data into named columns. This structure makes it intuitive to work with, much like you would interact with a table in SQL or a data frame in the pandas library (though Spark DataFrames are fundamentally built for distributed processing)."
      ],
      "metadata": {
        "id": "SF2B0IqH6u3C"
      }
    },
    {
      "cell_type": "markdown",
      "source": [
        "### **Basic Operations with DataFrames**\n",
        "DataFrames provide many methods for common data manipulation tasks. Let's look at a couple of simple ones."
      ],
      "metadata": {
        "id": "pFhOkeb77M3u"
      }
    },
    {
      "cell_type": "code",
      "source": [
        "from pyspark.sql import SparkSession\n",
        "from pyspark.ml.feature import VectorAssembler\n",
        "from pyspark.ml.regression import LinearRegression\n",
        "from pyspark.ml.evaluation import RegressionEvaluator\n",
        "from pyspark.sql.functions import col, mean, count, when, isnull, isnan\n",
        "from pyspark.sql.types import IntegerType, FloatType\n"
      ],
      "metadata": {
        "id": "sWTgZk7Z1fHk"
      },
      "execution_count": 3,
      "outputs": []
    },
    {
      "cell_type": "code",
      "source": [
        "# Read in the dataset\n",
        "\n",
        "spark = SparkSession.builder.appName(\"AutomotiveDataAnalysis\").getOrCreate()\n",
        "\n",
        "auto_df = spark.read.csv(\"/content/data.csv\", header=True, sep=\",\", inferSchema=True)\n",
        "auto_df.show()"
      ],
      "metadata": {
        "colab": {
          "base_uri": "https://localhost:8080/"
        },
        "id": "f-7LTNYJ1osR",
        "outputId": "fdd4ff54-70de-489c-82fe-798ef465b003"
      },
      "execution_count": 7,
      "outputs": [
        {
          "output_type": "stream",
          "name": "stdout",
          "text": [
            "+---------+-----------------+-----------+---------+----------+------------+-----------+------------+---------------+----------+------+-----+------+-----------+-----------+----------------+-----------+-----------+----+------+-----------------+----------+--------+--------+-----------+-----+\n",
            "|symboling|normalized-losses|       make|fuel-type|aspiration|num-of-doors| body-style|drive-wheels|engine-location|wheel-base|length|width|height|curb-weight|engine-type|num-of-cylinders|engine-size|fuel-system|bore|stroke|compression-ratio|horsepower|peak-rpm|city-mpg|highway-mpg|price|\n",
            "+---------+-----------------+-----------+---------+----------+------------+-----------+------------+---------------+----------+------+-----+------+-----------+-----------+----------------+-----------+-----------+----+------+-----------------+----------+--------+--------+-----------+-----+\n",
            "|        3|             NULL|alfa-romero|      gas|       std|         two|convertible|         rwd|          front|      88.6| 168.8| 64.1|  48.8|       2548|       dohc|            four|        130|       mpfi|3.47|  2.68|              9.0|       111|    5000|      21|         27|13495|\n",
            "|        3|             NULL|alfa-romero|      gas|       std|         two|convertible|         rwd|          front|      88.6| 168.8| 64.1|  48.8|       2548|       dohc|            four|        130|       mpfi|3.47|  2.68|              9.0|       111|    5000|      21|         27|16500|\n",
            "|        1|             NULL|alfa-romero|      gas|       std|         two|  hatchback|         rwd|          front|      94.5| 171.2| 65.5|  52.4|       2823|       ohcv|             six|        152|       mpfi|2.68|  3.47|              9.0|       154|    5000|      19|         26|16500|\n",
            "|        2|              164|       audi|      gas|       std|        four|      sedan|         fwd|          front|      99.8| 176.6| 66.2|  54.3|       2337|        ohc|            four|        109|       mpfi|3.19|   3.4|             10.0|       102|    5500|      24|         30|13950|\n",
            "|        2|              164|       audi|      gas|       std|        four|      sedan|         4wd|          front|      99.4| 176.6| 66.4|  54.3|       2824|        ohc|            five|        136|       mpfi|3.19|   3.4|              8.0|       115|    5500|      18|         22|17450|\n",
            "|        2|             NULL|       audi|      gas|       std|         two|      sedan|         fwd|          front|      99.8| 177.3| 66.3|  53.1|       2507|        ohc|            five|        136|       mpfi|3.19|   3.4|              8.5|       110|    5500|      19|         25|15250|\n",
            "|        1|              158|       audi|      gas|       std|        four|      sedan|         fwd|          front|     105.8| 192.7| 71.4|  55.7|       2844|        ohc|            five|        136|       mpfi|3.19|   3.4|              8.5|       110|    5500|      19|         25|17710|\n",
            "|        1|             NULL|       audi|      gas|       std|        four|      wagon|         fwd|          front|     105.8| 192.7| 71.4|  55.7|       2954|        ohc|            five|        136|       mpfi|3.19|   3.4|              8.5|       110|    5500|      19|         25|18920|\n",
            "|        1|              158|       audi|      gas|     turbo|        four|      sedan|         fwd|          front|     105.8| 192.7| 71.4|  55.9|       3086|        ohc|            five|        131|       mpfi|3.13|   3.4|              8.3|       140|    5500|      17|         20|23875|\n",
            "|        0|             NULL|       audi|      gas|     turbo|         two|  hatchback|         4wd|          front|      99.5| 178.2| 67.9|  52.0|       3053|        ohc|            five|        131|       mpfi|3.13|   3.4|              7.0|       160|    5500|      16|         22| NULL|\n",
            "|        2|              192|        bmw|      gas|       std|         two|      sedan|         rwd|          front|     101.2| 176.8| 64.8|  54.3|       2395|        ohc|            four|        108|       mpfi| 3.5|   2.8|              8.8|       101|    5800|      23|         29|16430|\n",
            "|        0|              192|        bmw|      gas|       std|        four|      sedan|         rwd|          front|     101.2| 176.8| 64.8|  54.3|       2395|        ohc|            four|        108|       mpfi| 3.5|   2.8|              8.8|       101|    5800|      23|         29|16925|\n",
            "|        0|              188|        bmw|      gas|       std|         two|      sedan|         rwd|          front|     101.2| 176.8| 64.8|  54.3|       2710|        ohc|             six|        164|       mpfi|3.31|  3.19|              9.0|       121|    4250|      21|         28|20970|\n",
            "|        0|              188|        bmw|      gas|       std|        four|      sedan|         rwd|          front|     101.2| 176.8| 64.8|  54.3|       2765|        ohc|             six|        164|       mpfi|3.31|  3.19|              9.0|       121|    4250|      21|         28|21105|\n",
            "|        1|             NULL|        bmw|      gas|       std|        four|      sedan|         rwd|          front|     103.5| 189.0| 66.9|  55.7|       3055|        ohc|             six|        164|       mpfi|3.31|  3.19|              9.0|       121|    4250|      20|         25|24565|\n",
            "|        0|             NULL|        bmw|      gas|       std|        four|      sedan|         rwd|          front|     103.5| 189.0| 66.9|  55.7|       3230|        ohc|             six|        209|       mpfi|3.62|  3.39|              8.0|       182|    5400|      16|         22|30760|\n",
            "|        0|             NULL|        bmw|      gas|       std|         two|      sedan|         rwd|          front|     103.5| 193.8| 67.9|  53.7|       3380|        ohc|             six|        209|       mpfi|3.62|  3.39|              8.0|       182|    5400|      16|         22|41315|\n",
            "|        0|             NULL|        bmw|      gas|       std|        four|      sedan|         rwd|          front|     110.0| 197.0| 70.9|  56.3|       3505|        ohc|             six|        209|       mpfi|3.62|  3.39|              8.0|       182|    5400|      15|         20|36880|\n",
            "|        2|              121|  chevrolet|      gas|       std|         two|  hatchback|         fwd|          front|      88.4| 141.1| 60.3|  53.2|       1488|          l|           three|         61|       2bbl|2.91|  3.03|              9.5|        48|    5100|      47|         53| 5151|\n",
            "|        1|               98|  chevrolet|      gas|       std|         two|  hatchback|         fwd|          front|      94.5| 155.9| 63.6|  52.0|       1874|        ohc|            four|         90|       2bbl|3.03|  3.11|              9.6|        70|    5400|      38|         43| 6295|\n",
            "+---------+-----------------+-----------+---------+----------+------------+-----------+------------+---------------+----------+------+-----+------+-----------+-----------+----------------+-----------+-----------+----+------+-----------------+----------+--------+--------+-----------+-----+\n",
            "only showing top 20 rows\n",
            "\n"
          ]
        }
      ]
    },
    {
      "cell_type": "markdown",
      "source": [
        "# Show the scheama\n",
        "To understand the datatype\n"
      ],
      "metadata": {
        "id": "GE4fceSh949E"
      }
    },
    {
      "cell_type": "code",
      "source": [
        "auto_df.printSchema()"
      ],
      "metadata": {
        "colab": {
          "base_uri": "https://localhost:8080/"
        },
        "id": "AQVf9PEa9P_2",
        "outputId": "875c51e2-8d0e-4232-a4eb-53fba4a76ca3"
      },
      "execution_count": 8,
      "outputs": [
        {
          "output_type": "stream",
          "name": "stdout",
          "text": [
            "root\n",
            " |-- symboling: integer (nullable = true)\n",
            " |-- normalized-losses: integer (nullable = true)\n",
            " |-- make: string (nullable = true)\n",
            " |-- fuel-type: string (nullable = true)\n",
            " |-- aspiration: string (nullable = true)\n",
            " |-- num-of-doors: string (nullable = true)\n",
            " |-- body-style: string (nullable = true)\n",
            " |-- drive-wheels: string (nullable = true)\n",
            " |-- engine-location: string (nullable = true)\n",
            " |-- wheel-base: double (nullable = true)\n",
            " |-- length: double (nullable = true)\n",
            " |-- width: double (nullable = true)\n",
            " |-- height: double (nullable = true)\n",
            " |-- curb-weight: integer (nullable = true)\n",
            " |-- engine-type: string (nullable = true)\n",
            " |-- num-of-cylinders: string (nullable = true)\n",
            " |-- engine-size: integer (nullable = true)\n",
            " |-- fuel-system: string (nullable = true)\n",
            " |-- bore: double (nullable = true)\n",
            " |-- stroke: double (nullable = true)\n",
            " |-- compression-ratio: double (nullable = true)\n",
            " |-- horsepower: integer (nullable = true)\n",
            " |-- peak-rpm: integer (nullable = true)\n",
            " |-- city-mpg: integer (nullable = true)\n",
            " |-- highway-mpg: integer (nullable = true)\n",
            " |-- price: integer (nullable = true)\n",
            "\n"
          ]
        }
      ]
    },
    {
      "cell_type": "markdown",
      "source": [
        "### Describe\n",
        "\n",
        "# Check basic statistics for numeric columns\n"
      ],
      "metadata": {
        "id": "tLPUknZM-aZ9"
      }
    },
    {
      "cell_type": "code",
      "source": [
        "auto_df.describe().show()"
      ],
      "metadata": {
        "colab": {
          "base_uri": "https://localhost:8080/"
        },
        "id": "WDRuNohr-Efe",
        "outputId": "2191c03d-9437-483c-f1ec-ceb6849a5baf"
      },
      "execution_count": 9,
      "outputs": [
        {
          "output_type": "stream",
          "name": "stdout",
          "text": [
            "+-------+------------------+-----------------+-----------+---------+----------+------------+-----------+------------+---------------+------------------+------------------+-----------------+------------------+------------------+-----------+----------------+------------------+-----------+------------------+------------------+------------------+------------------+-----------------+-----------------+-----------------+------------------+\n",
            "|summary|         symboling|normalized-losses|       make|fuel-type|aspiration|num-of-doors| body-style|drive-wheels|engine-location|        wheel-base|            length|            width|            height|       curb-weight|engine-type|num-of-cylinders|       engine-size|fuel-system|              bore|            stroke| compression-ratio|        horsepower|         peak-rpm|         city-mpg|      highway-mpg|             price|\n",
            "+-------+------------------+-----------------+-----------+---------+----------+------------+-----------+------------+---------------+------------------+------------------+-----------------+------------------+------------------+-----------+----------------+------------------+-----------+------------------+------------------+------------------+------------------+-----------------+-----------------+-----------------+------------------+\n",
            "|  count|               205|              164|        205|      205|       205|         203|        205|         205|            205|               205|               205|              205|               205|               205|        205|             205|               205|        205|               201|               201|               205|               203|              203|              205|              205|               201|\n",
            "|   mean|0.8341463414634146|            122.0|       NULL|     NULL|      NULL|        NULL|       NULL|        NULL|           NULL| 98.75658536585378|174.04926829268305|65.90780487804875|53.724878048780525|2555.5658536585365|       NULL|            NULL|126.90731707317073|       NULL|3.3297512437810957|3.2554228855721337|10.142536585365855|104.25615763546799|5125.369458128079|25.21951219512195|30.75121951219512|13207.129353233831|\n",
            "| stddev|1.2453068281055295|35.44216753055326|       NULL|     NULL|      NULL|        NULL|       NULL|        NULL|           NULL|6.0217756850255695|12.337288526555188|2.145203852687182| 2.443521969904905| 520.6802035016384|       NULL|            NULL|41.642693438179855|       NULL|0.2735387318295989|0.3167174533770312|3.9720403218632985| 39.71436878679357|479.3345598334159| 6.54214165300162|6.886443130941823| 7947.066341939271|\n",
            "|    min|                -2|               65|alfa-romero|   diesel|       std|        four|convertible|         4wd|          front|              86.6|             141.1|             60.3|              47.8|              1488|       dohc|           eight|                61|       1bbl|              2.54|              2.07|               7.0|                48|             4150|               13|               16|              5118|\n",
            "|    max|                 3|              256|      volvo|      gas|     turbo|         two|      wagon|         rwd|           rear|             120.9|             208.1|             72.3|              59.8|              4066|      rotor|             two|               326|       spfi|              3.94|              4.17|              23.0|               288|             6600|               49|               54|             45400|\n",
            "+-------+------------------+-----------------+-----------+---------+----------+------------+-----------+------------+---------------+------------------+------------------+-----------------+------------------+------------------+-----------+----------------+------------------+-----------+------------------+------------------+------------------+------------------+-----------------+-----------------+-----------------+------------------+\n",
            "\n"
          ]
        }
      ]
    },
    {
      "cell_type": "code",
      "source": [
        "# Check for missing values\n",
        "auto_df.select([count(when(isnull(c) | isnan(c), c)).alias(c) for c in auto_df.columns]).show()"
      ],
      "metadata": {
        "colab": {
          "base_uri": "https://localhost:8080/"
        },
        "id": "f1wpl3Sd-s7H",
        "outputId": "64284ea6-593b-4a28-b23f-6a7afc3e0c72"
      },
      "execution_count": 13,
      "outputs": [
        {
          "output_type": "stream",
          "name": "stdout",
          "text": [
            "+---------+-----------------+----+---------+----------+------------+----------+------------+---------------+----------+------+-----+------+-----------+-----------+----------------+-----------+-----------+----+------+-----------------+----------+--------+--------+-----------+-----+\n",
            "|symboling|normalized-losses|make|fuel-type|aspiration|num-of-doors|body-style|drive-wheels|engine-location|wheel-base|length|width|height|curb-weight|engine-type|num-of-cylinders|engine-size|fuel-system|bore|stroke|compression-ratio|horsepower|peak-rpm|city-mpg|highway-mpg|price|\n",
            "+---------+-----------------+----+---------+----------+------------+----------+------------+---------------+----------+------+-----+------+-----------+-----------+----------------+-----------+-----------+----+------+-----------------+----------+--------+--------+-----------+-----+\n",
            "|        0|               41|   0|        0|         0|           2|         0|           0|              0|         0|     0|    0|     0|          0|          0|               0|          0|          0|   4|     4|                0|         2|       2|       0|          0|    4|\n",
            "+---------+-----------------+----+---------+----------+------------+----------+------------+---------------+----------+------+-----+------+-----------+-----------+----------------+-----------+-----------+----+------+-----------------+----------+--------+--------+-----------+-----+\n",
            "\n"
          ]
        }
      ]
    },
    {
      "cell_type": "code",
      "source": [],
      "metadata": {
        "id": "cBQACa1u_GA_"
      },
      "execution_count": null,
      "outputs": []
    }
  ]
}